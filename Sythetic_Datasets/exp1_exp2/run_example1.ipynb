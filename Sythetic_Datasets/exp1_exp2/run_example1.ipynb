{
 "cells": [
  {
   "cell_type": "markdown",
   "id": "1a13bd4e-4a41-4231-b487-87c299272f46",
   "metadata": {},
   "source": [
    "# Distributions with disjoint supports"
   ]
  },
  {
   "cell_type": "code",
   "execution_count": null,
   "id": "404faf4a-724d-441d-b324-c051ac9cded4",
   "metadata": {},
   "outputs": [],
   "source": [
    "import numpy as np\n",
    "import bet_ons\n",
    "from bet_ons import call_process_ons\n",
    "import bet_ftrl_barrier\n",
    "from bet_ftrl_barrier import call_process_ftrl\n",
    "import bet_optimistic_ftrl_barrier\n",
    "from bet_optimistic_ftrl_barrier import call_process_op_ftrl\n"
   ]
  },
  {
   "cell_type": "code",
   "execution_count": 1,
   "id": "01883d26-891a-47ca-9f4b-8c7aa031a5b2",
   "metadata": {},
   "outputs": [],
   "source": [
    "# **H1** scenario\n",
    "bandwidth=1e-3\n",
    "y1 = np.random.uniform(0.8-bandwidth, 0.8+bandwidth, 500)\n",
    "y2 = np.random.uniform(0.2-bandwidth, 0.2+bandwidth, 500)\n",
    "\n",
    "\n",
    "# **H0** scenario\n",
    "z1 = y1\n",
    "z2 = np.random.uniform(0.8-bandwidth, 0.8+bandwidth, 500)\n"
   ]
  },
  {
   "cell_type": "code",
   "execution_count": 2,
   "id": "39be98f6-1c2d-4e3f-976c-d333dac46331",
   "metadata": {},
   "outputs": [],
   "source": [
    "\n",
    "data1=y1\n",
    "data2=y2\n",
    "data3=z1\n",
    "data4=z2\n",
    "alphas=np.linspace(0.005, 0.1, 20)\n",
    "iters=300\n",
    "shift_time = None\n",
    "output_file='Sythetic_Datasets/exp1_exp2/results/sim_exp1.json'\n",
    "call_process_ons(data1, data2, data3, data4, alphas,iters, shift_time, output_file)\n",
    "call_process_ftrl(data1, data2, data3, data4, alphas,iters, shift_time, output_file)\n",
    "call_process_op_ftrl(data1, data2, data3, data4, alphas,iters, shift_time, output_file)"
   ]
  },
  {
   "cell_type": "markdown",
   "id": "88ccaa2b-3215-44a5-b407-625d4bf64ba8",
   "metadata": {},
   "source": [
    "# Get results to plot"
   ]
  },
  {
   "cell_type": "code",
   "execution_count": null,
   "id": "1bfd0b2e-6906-4bde-ac74-c901326dc927",
   "metadata": {},
   "outputs": [],
   "source": [
    "import json\n",
    "import os\n",
    "import numpy as np"
   ]
  },
  {
   "cell_type": "code",
   "execution_count": null,
   "id": "28129986-ee5b-409f-bf70-6a4d20a560c5",
   "metadata": {},
   "outputs": [],
   "source": [
    "\n",
    "json_files = ['Sythetic_Datasets/exp1_exp2/results/sim_exp1.json']\n",
    "item_names = ['ONS','FTRL+Barrier', 'Optimistic-FTRL+Barrier']\n",
    "data_collect = {name: {'rejection_time': [], 'power': [], 'fpr': []} for name in item_names}\n",
    "\n",
    "\n",
    "for file in json_files:\n",
    "    with open(file, 'r') as f:\n",
    "        data = json.load(f)\n",
    "        for i, item in enumerate(data):  \n",
    "            data_collect[item_names[i]]['rejection_time'].append(item['rejection_time'])\n",
    "            data_collect[item_names[i]]['power'].append(item['power'])\n",
    "            data_collect[item_names[i]]['fpr'].append(item['fpr'])\n",
    "\n",
    "results = []\n",
    "for name, metrics in data_collect.items():\n",
    "    avg_rejection_time = np.mean(metrics['rejection_time'], axis=0).tolist()\n",
    "    avg_power = np.mean(metrics['power'], axis=0).tolist()\n",
    "    avg_fpr = np.mean(metrics['fpr'], axis=0).tolist()\n",
    "    results.append({\n",
    "        'item_name': name,\n",
    "        'rejection_time': avg_rejection_time,\n",
    "        'power': avg_power,\n",
    "        'fpr': avg_fpr\n",
    "    })\n",
    "\n",
    "results_json = json.dumps(results, indent=4)\n",
    "\n",
    "with open('Sythetic_Datasets/exp1_exp2/results_to_plot/sim_exp1.json', 'w') as f:\n",
    "    f.write(results_json)\n"
   ]
  },
  {
   "cell_type": "markdown",
   "id": "4c62a598-80fb-4882-ab17-93a2d39f6a28",
   "metadata": {},
   "source": [
    "# Plot results"
   ]
  },
  {
   "cell_type": "code",
   "execution_count": null,
   "id": "8e679f7d-327d-41a2-8a4d-a48ee1b8d9fc",
   "metadata": {},
   "outputs": [],
   "source": [
    "import pandas as pd\n",
    "import matplotlib.pyplot as plt"
   ]
  },
  {
   "cell_type": "code",
   "execution_count": null,
   "id": "da7a73c0-2517-4fa0-8185-a0c56af1d77c",
   "metadata": {},
   "outputs": [],
   "source": [
    "\n",
    "with open('Sythetic_Datasets/exp1_exp2/results_to_plot/sim_exp1.json', 'r') as file:\n",
    "    items = json.load(file)\n",
    "\n",
    "df_list = []\n",
    "for item in items:\n",
    "    df = pd.DataFrame({\n",
    "        'rejection_time': item['rejection_time'],\n",
    "        'fpr': item['fpr'],\n",
    "        'name': item['item_name'], \n",
    "        'alpha': np.linspace(0.005, 0.1, len(item['fpr']))  \n",
    "    })\n",
    "    df_list.append(df)\n",
    "\n",
    "fig, ax = plt.subplots(1, 2, figsize=(13, 4.2))  \n",
    "i=0\n",
    "markers = [\"*\", \"s\", \"^\"]\n",
    "for df in df_list:\n",
    "    ax[0].plot(df['rejection_time'], df['fpr'],ls='--', lw=2,  marker=markers[i], label=df['name'].iloc[0], markersize=9)\n",
    "    ax[1].plot(df['alpha'], df['fpr'], ls='--', lw=2, marker=markers[i], label=df['name'].iloc[0], markersize=9)\n",
    "    i += 1\n",
    "\n",
    "ax[0].tick_params(axis='both', labelsize=20, which='major', length=10,  width=2)\n",
    "ax[0].set_ylim(-0.005,0.105)\n",
    "ax[0].set_yticks(np.arange(0,0.105,0.02))\n",
    "ax[0].set_xlim(-2,32)\n",
    "ax[0].set_xticks(np.arange(0,32, 5))\n",
    "ax[0].set_xlabel(r'Rejection Time ($\\tau$)', fontsize=20)\n",
    "ax[0].set_ylabel('False Positive Rate (FPR)', fontsize=20)\n",
    "x = np.linspace(0, 0.1, 500)\n",
    "y = x \n",
    "ax[1].fill_between(x, 0, y, color='yellow', alpha=0.1, zorder=1)  \n",
    "ax[1].set_ylim(-0.005,0.105)\n",
    "ax[1].set_yticks(np.arange(0,0.105,0.02))\n",
    "ax[1].set_xlim(-0.005,0.105)\n",
    "ax[1].set_xticks(np.arange(0,0.12,0.02))\n",
    "ax[1].tick_params(axis='both', labelsize=20, which='major', length=10,  width=2)\n",
    "ax[1].plot([0, 0.1], [0, 0.1], color='k', ls='--',  lw=3)\n",
    "ax[1].set_xlabel(r'Significance Level ($\\alpha$)', fontsize=20)\n",
    "ax[1].set_ylabel('False Positive Rate (FPR)', fontsize=20)\n",
    "handles, labels = next(ax.flat).get_legend_handles_labels()\n",
    "fig.legend(handles, labels, loc='upper center', bbox_to_anchor=(0.49, -0.07), fancybox=True, shadow=True,\n",
    "             ncol=5, fontsize=20, labelspacing=0.1, handletextpad=0.5, handlelength=1)\n",
    "plt.subplots_adjust(wspace=0.4)  \n",
    "for axis in ax:  \n",
    "    for spine in axis.spines.values():\n",
    "        spine.set_linewidth(2)  \n",
    "\n"
   ]
  }
 ],
 "metadata": {
  "kernelspec": {
   "display_name": "Python 3 (ipykernel)",
   "language": "python",
   "name": "python3"
  },
  "language_info": {
   "codemirror_mode": {
    "name": "ipython",
    "version": 3
   },
   "file_extension": ".py",
   "mimetype": "text/x-python",
   "name": "python",
   "nbconvert_exporter": "python",
   "pygments_lexer": "ipython3",
   "version": "3.11.0"
  }
 },
 "nbformat": 4,
 "nbformat_minor": 5
}
