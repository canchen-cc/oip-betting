{
 "cells": [
  {
   "cell_type": "markdown",
   "id": "5dada887-fb7c-4553-81e4-9a59e095dcb6",
   "metadata": {},
   "source": [
    "# Distributions with overlapping supports; high signal-to-noise ratio"
   ]
  },
  {
   "cell_type": "code",
   "execution_count": null,
   "id": "f97c6b23-bb16-46eb-8beb-9396cca89fc9",
   "metadata": {},
   "outputs": [],
   "source": [
    "import numpy as np\n",
    "import seaborn as sns\n",
    "import matplotlib.pyplot as plt"
   ]
  },
  {
   "cell_type": "code",
   "execution_count": null,
   "id": "476bc5a5-04bd-42b3-a86b-5e618ae929c9",
   "metadata": {},
   "outputs": [],
   "source": [
    "\n",
    "mu_x, sigma_x = 0.30, 0.01\n",
    "mu_y, sigma_y = 0.35, 0.01\n",
    "\n",
    "# **H1** scenario\n",
    "y1 = np.random.normal(mu_x, sigma_x, 500)\n",
    "y2 = np.random.normal(mu_y, sigma_y, 500)\n",
    "\n",
    "# **H0** scenario\n",
    "z1 = y1\n",
    "z2 = np.random.normal(mu_x, sigma_x, 500)"
   ]
  },
  {
   "cell_type": "code",
   "execution_count": null,
   "id": "bc63b2c7-c161-44aa-a9ee-07f01a8926a1",
   "metadata": {},
   "outputs": [],
   "source": [
    "mu_x_sample, sigma_x_squared = np.mean(y1), np.var(y1)\n",
    "mu_y_sample, sigma_y_squared = np.mean(y2), np.var(y2)\n",
    "ratio = (mu_x_sample - mu_y_sample)**2 / (sigma_x_squared + sigma_y_squared)\n",
    "\n",
    "print(\"μ_x:\", mu_x_sample, \"σ_x^2:\", sigma_x_squared)\n",
    "print(\"μ_y:\", mu_y_sample, \"σ_y^2:\", sigma_y_squared)\n",
    "print(\"Ratio:\", ratio)\n"
   ]
  },
  {
   "cell_type": "code",
   "execution_count": null,
   "id": "98f2a954-59f4-4c0e-8202-698f5c12007d",
   "metadata": {},
   "outputs": [],
   "source": [
    "sns.kdeplot(y1, shade=True, label='y1 density')\n",
    "sns.kdeplot(y2, shade=True, label='y2 density')\n",
    "plt.legend()\n",
    "plt.title('Density of y1 and y2')\n",
    "plt.xlabel('Value')\n",
    "plt.ylabel('Density')\n",
    "plt.show()"
   ]
  },
  {
   "cell_type": "code",
   "execution_count": null,
   "id": "8cd2e02d-ee31-4bd5-acd0-b7f0d72a1465",
   "metadata": {},
   "outputs": [],
   "source": [
    "import bet_ons\n",
    "from bet_ons import call_process_ons\n",
    "import bet_ftrl_barrier\n",
    "from bet_ftrl_barrier import call_process_ftrl\n",
    "import bet_optimistic_ftrl_barrier\n",
    "from bet_optimistic_ftrl_barrier import call_process_op_ftrl"
   ]
  },
  {
   "cell_type": "code",
   "execution_count": null,
   "id": "0166ff64-a5c6-4832-994f-f45690a18e47",
   "metadata": {},
   "outputs": [],
   "source": [
    "data1=y1\n",
    "data2=y2\n",
    "data3=z1\n",
    "data4=z2\n",
    "alphas=np.linspace(0.005, 0.1, 20)\n",
    "iters=300\n",
    "shift_time = None\n",
    "output_file='Sythetic_Datasets/e1_e2/results/sim_e2.json'\n",
    "call_process_ons(data1, data2, data3, data4, alphas,iters, shift_time, output_file)\n",
    "call_process_ftrl(data1, data2, data3, data4, alphas,iters, shift_time, output_file)\n",
    "call_process_op_ftrl(data1, data2, data3, data4, alphas,iters, shift_time, output_file)"
   ]
  },
  {
   "cell_type": "markdown",
   "id": "0e3b47b1-e925-45d1-9ad3-279b5a10b746",
   "metadata": {},
   "source": [
    "# Get results to plot"
   ]
  },
  {
   "cell_type": "code",
   "execution_count": null,
   "id": "58012b5d-edc5-4d00-9b0d-dcab25e2ea5a",
   "metadata": {},
   "outputs": [],
   "source": [
    "import json\n",
    "import os\n",
    "import numpy as np"
   ]
  },
  {
   "cell_type": "code",
   "execution_count": null,
   "id": "750adabb-6966-4d45-939e-81665d060fcb",
   "metadata": {},
   "outputs": [],
   "source": [
    "\n",
    "json_files = ['Sythetic_Datasets/e1_e2/results/sim_e2.json']\n",
    "item_names = ['ONS','FTRL+Barrier', 'Optimistic-FTRL+Barrier']\n",
    "data_collect = {name: {'rejection_time': [], 'power': [], 'fpr': []} for name in item_names}\n",
    "\n",
    "for file in json_files:\n",
    "    with open(file, 'r') as f:\n",
    "        data = json.load(f)\n",
    "        for i, item in enumerate(data):  \n",
    "            data_collect[item_names[i]]['rejection_time'].append(item['rejection_time'])\n",
    "            data_collect[item_names[i]]['power'].append(item['power'])\n",
    "            data_collect[item_names[i]]['fpr'].append(item['fpr'])\n",
    "\n",
    "results = []\n",
    "for name, metrics in data_collect.items():\n",
    "    avg_rejection_time = np.mean(metrics['rejection_time'], axis=0).tolist()\n",
    "    avg_power = np.mean(metrics['power'], axis=0).tolist()\n",
    "    avg_fpr = np.mean(metrics['fpr'], axis=0).tolist()\n",
    "    results.append({\n",
    "        'item_name': name,\n",
    "        'rejection_time': avg_rejection_time,\n",
    "        'power': avg_power,\n",
    "        'fpr': avg_fpr\n",
    "    })\n",
    "\n",
    "results_json = json.dumps(results, indent=4)\n",
    "\n",
    "with open('Sythetic_Datasets/e1_e2/results_to_plot/sim_e2.json', 'w') as f:\n",
    "    f.write(results_json)\n"
   ]
  },
  {
   "cell_type": "markdown",
   "id": "f0b9bdc9-5089-4a04-9c87-858486ede054",
   "metadata": {},
   "source": [
    "# Plot results"
   ]
  },
  {
   "cell_type": "code",
   "execution_count": null,
   "id": "48543dd3-5c3f-4ad4-91f7-2ee5a7848694",
   "metadata": {},
   "outputs": [],
   "source": [
    "import pandas as pd\n",
    "import matplotlib.pyplot as plt"
   ]
  },
  {
   "cell_type": "code",
   "execution_count": null,
   "id": "2ad78017-b2a3-4d5b-9266-6169e07e06d7",
   "metadata": {},
   "outputs": [],
   "source": [
    "\n",
    "with open('Sythetic_Datasets/e1_e2/results_to_plot/sim_e2.json', 'r') as file:\n",
    "    items = json.load(file)\n",
    "\n",
    "df_list = []\n",
    "for item in items:\n",
    "    df = pd.DataFrame({\n",
    "        'rejection_time': item['rejection_time'],\n",
    "        'fpr': item['fpr'],\n",
    "        'name': item['item_name'], \n",
    "        'alpha': np.linspace(0.005, 0.1, len(item['fpr']))  \n",
    "    })\n",
    "    df_list.append(df)\n",
    "\n",
    "fig, ax = plt.subplots(1, 2, figsize=(13, 4.2))  \n",
    "i=0\n",
    "markers = [\"*\", \"s\", \"^\"]\n",
    "for df in df_list:\n",
    "  \n",
    "    ax[0].plot(df['rejection_time'], df['fpr'],ls='--', lw=2,  marker=markers[i],  label=df['name'].iloc[0], markersize=9)\n",
    "    ax[1].plot(df['alpha'], df['fpr'], ls='--', lw=2, marker=markers[i], label=df['name'].iloc[0], markersize=9)\n",
    "    i += 1\n",
    "\n",
    "ax[0].tick_params(axis='both', labelsize=20, which='major', length=10,  width=2)\n",
    "ax[0].set_ylim(-0.005,0.105)\n",
    "ax[0].set_yticks(np.arange(0,0.105,0.02))\n",
    "ax[0].set_xlim(-15,315)\n",
    "ax[0].set_xticks(np.arange(0,315, 60))\n",
    "ax[0].set_xlabel(r'Rejection Time ($\\tau$)', fontsize=20)\n",
    "ax[0].set_ylabel('False Positive Rate (FPR)', fontsize=20)\n",
    "x = np.linspace(0, 0.1, 500)\n",
    "y = x \n",
    "ax[1].fill_between(x, 0, y, color='yellow', alpha=0.1, zorder=1)  \n",
    "ax[1].set_ylim(-0.005,0.105)\n",
    "ax[1].set_yticks(np.arange(0,0.105,0.02))\n",
    "ax[1].set_xlim(-0.005,0.105)\n",
    "ax[1].set_xticks(np.arange(0,0.12,0.02))\n",
    "ax[1].tick_params(axis='both', labelsize=20, which='major', length=10,  width=2)\n",
    "ax[1].plot([0, 0.1], [0, 0.1], color='k', ls='--',  lw=3)\n",
    "ax[1].set_xlabel(r'Significance Level ($\\alpha$)', fontsize=20)\n",
    "ax[1].set_ylabel('False Positive Rate (FPR)', fontsize=20)\n",
    "handles, labels = next(ax.flat).get_legend_handles_labels()\n",
    "fig.legend(handles, labels, loc='upper center', bbox_to_anchor=(0.49, -0.07), fancybox=True, shadow=True,\n",
    "             ncol=5, fontsize=20, labelspacing=0.1, handletextpad=0.5, handlelength=1)\n",
    "\n",
    "plt.subplots_adjust(wspace=0.4)  \n",
    "for axis in ax:  \n",
    "    for spine in axis.spines.values():\n",
    "        spine.set_linewidth(2)  \n"
   ]
  }
 ],
 "metadata": {
  "kernelspec": {
   "display_name": "Python 3 (ipykernel)",
   "language": "python",
   "name": "python3"
  },
  "language_info": {
   "codemirror_mode": {
    "name": "ipython",
    "version": 3
   },
   "file_extension": ".py",
   "mimetype": "text/x-python",
   "name": "python",
   "nbconvert_exporter": "python",
   "pygments_lexer": "ipython3",
   "version": "3.11.0"
  }
 },
 "nbformat": 4,
 "nbformat_minor": 5
}
