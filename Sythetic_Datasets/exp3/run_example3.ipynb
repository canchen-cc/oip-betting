{
 "cells": [
  {
   "cell_type": "markdown",
   "id": "25379d4f",
   "metadata": {},
   "source": [
    "# Time-varying distributions with mean shift"
   ]
  },
  {
   "cell_type": "code",
   "execution_count": null,
   "id": "03fce8bf-1014-4a69-a0e1-fec31342b06e",
   "metadata": {},
   "outputs": [],
   "source": [
    "import numpy as np\n",
    "import seaborn as sns\n",
    "import matplotlib.pyplot as plt\n",
    "import pandas as pd\n"
   ]
  },
  {
   "cell_type": "code",
   "execution_count": 1,
   "id": "7f2d479d-44ec-485d-9c54-c286aba8ff5d",
   "metadata": {},
   "outputs": [],
   "source": [
    "\n",
    "# **H1** scenario\n",
    "mu_x, sigma_x = 0.3, 0.01\n",
    "mu_shift = 0.35\n",
    "y2=np.empty(500)\n",
    "y1 = np.random.normal(mu_x, sigma_x, 500)\n",
    "y2[:300] = np.random.normal(mu_x, sigma_x, 300)\n",
    "y2[300:] = np.random.normal(mu_shift, sigma_x, 200)\n",
    "\n",
    "# **H0** scenario\n",
    "z1 = y1 \n",
    "z2 = np.random.normal(mu_x, sigma_x, 500)\n"
   ]
  },
  {
   "cell_type": "code",
   "execution_count": null,
   "id": "c772bdf5-3501-46b4-8f3c-482449ccd3b7",
   "metadata": {},
   "outputs": [],
   "source": [
    "import bet_ons_e3\n",
    "from bet_ons_e3 import call_process_ons\n",
    "import bet_ftrl_barrier_e3\n",
    "from bet_ftrl_barrier_e3 import call_process_ftrl\n",
    "import bet_optimistic_ftrl_barrier_e3\n",
    "from bet_optimistic_ftrl_barrier_e3 import call_process_op_ftrl"
   ]
  },
  {
   "cell_type": "code",
   "execution_count": 3,
   "id": "dbc8aa50-d21a-4cfe-ab1e-9b93f6bc0691",
   "metadata": {},
   "outputs": [],
   "source": [
    "\n",
    "data1=y1\n",
    "data2=y2\n",
    "data3=z1\n",
    "data4=z2\n",
    "alphas=np.linspace(0.005, 0.1, 20)\n",
    "iters=300\n",
    "shift_time = None\n",
    "output_file='Sythetic_Datasets/exp3/results/sim_exp3.json'\n",
    "call_process_ons(data1, data2, data3, data4, alphas,iters, shift_time, output_file)\n",
    "call_process_ftrl(data1, data2, data3, data4, alphas,iters, shift_time, output_file)\n",
    "call_process_op_ftrl(data1, data2, data3, data4, alphas,iters, shift_time, output_file)"
   ]
  },
  {
   "cell_type": "markdown",
   "id": "1d4e4727",
   "metadata": {},
   "source": [
    "# Get results to plot"
   ]
  },
  {
   "cell_type": "code",
   "execution_count": null,
   "id": "f5dc8f96-67df-4d4b-89d9-f4c3ef611209",
   "metadata": {},
   "outputs": [],
   "source": [
    "\n",
    "import json\n",
    "import os\n",
    "import numpy as np\n",
    "\n",
    "\n",
    "json_files = ['Sythetic_Datasets/exp3/results/sim_exp3.json']\n",
    "item_names = ['ONS','FTRL+Barrier', 'Optimistic-FTRL+Barrier']\n",
    "data_collect = {name: {'rejection_time': [], 'power': [], 'fpr': []} for name in item_names}\n",
    "\n",
    "for file in json_files:\n",
    "    with open(file, 'r') as f:\n",
    "        data = json.load(f)\n",
    "        for i, item in enumerate(data):  \n",
    "            data_collect[item_names[i]]['rejection_time'].append(item['rejection_time'])\n",
    "            data_collect[item_names[i]]['power'].append(item['power'])\n",
    "            data_collect[item_names[i]]['fpr'].append(item['fpr'])\n",
    "\n",
    "results = []\n",
    "for name, metrics in data_collect.items():\n",
    "    avg_rejection_time = np.mean(metrics['rejection_time'], axis=0).tolist()\n",
    "    avg_power = np.mean(metrics['power'], axis=0).tolist()\n",
    "    avg_fpr = np.mean(metrics['fpr'], axis=0).tolist()\n",
    "    results.append({\n",
    "        'item_name': name,\n",
    "        'rejection_time': avg_rejection_time,\n",
    "        'power': avg_power,\n",
    "        'fpr': avg_fpr\n",
    "    })\n",
    "\n",
    "results_json = json.dumps(results, indent=4)\n",
    "\n",
    "with open('Sythetic_Datasets/exp3/results_to_plot/sim_exp3.json', 'w') as f:\n",
    "    f.write(results_json)\n"
   ]
  },
  {
   "cell_type": "markdown",
   "id": "6a8ffb55",
   "metadata": {},
   "source": [
    "# Plot Results"
   ]
  },
  {
   "cell_type": "code",
   "execution_count": null,
   "id": "5d1ac691-499e-4437-9d6a-8965fcfb1a9b",
   "metadata": {},
   "outputs": [],
   "source": [
    "\n",
    "\n",
    "with open('Sythetic_Datasets/exp3/results_to_plot/sim_exp3.json', 'r') as file:\n",
    "    items = json.load(file)\n",
    "\n",
    "df_list = []\n",
    "for item in items:\n",
    "    df = pd.DataFrame({\n",
    "        'rejection_time': item['rejection_time'],\n",
    "        'fpr': item['fpr'],\n",
    "        'name': item['item_name'], \n",
    "        'alpha': np.linspace(0.005, 0.1, len(item['fpr']))  \n",
    "    })\n",
    "    df_list.append(df)\n",
    "\n",
    "fig, ax = plt.subplots(1, 2, figsize=(13, 4.2))  \n",
    "i=0\n",
    "markers = [\"*\", \"s\", \"^\"]\n",
    "for df in df_list:\n",
    "    ax[0].plot(df['rejection_time'], df['fpr'],ls='--', lw=2,  marker=markers[i], label=df['name'].iloc[0], markersize=9)\n",
    "    ax[1].plot(df['alpha'], df['fpr'], ls='--', lw=2, marker=markers[i], label=df['name'].iloc[0], markersize=9)\n",
    "    i += 1\n",
    "\n",
    "ax[0].tick_params(axis='both', labelsize=20, which='major', length=10,  width=2)\n",
    "ax[0].set_ylim(-0.005,0.105)\n",
    "ax[0].set_yticks(np.arange(0,0.105,0.02))\n",
    "ax[0].axvline(x=300, color='grey', linestyle='--')\n",
    "ax[0].set_xlim(280,520)\n",
    "ax[0].set_xticks(np.arange(300,520, 50))\n",
    "ax[0].set_xlabel(r'Rejection Time ($\\tau$)', fontsize=20)\n",
    "ax[0].set_ylabel('False Positive Rate (FPR)', fontsize=20)\n",
    "x = np.linspace(0, 0.1, 500)\n",
    "y = x \n",
    "ax[1].fill_between(x, 0, y, color='yellow', alpha=0.1, zorder=1)  \n",
    "ax[1].set_ylim(-0.005,0.105)\n",
    "ax[1].set_yticks(np.arange(0,0.105,0.02))\n",
    "ax[1].set_xlim(-0.005,0.105)\n",
    "ax[1].set_xticks(np.arange(0,0.12,0.02))\n",
    "ax[1].tick_params(axis='both', labelsize=20, which='major', length=10,  width=2)\n",
    "ax[1].plot([0, 0.1], [0, 0.1], color='k', ls='--',  lw=3)\n",
    "ax[1].set_xlabel(r'Significance Level ($\\alpha$)', fontsize=20)\n",
    "ax[1].set_ylabel('False Positive Rate (FPR)', fontsize=20)\n",
    "handles, labels = next(ax.flat).get_legend_handles_labels()\n",
    "fig.legend(handles, labels, loc='upper center', bbox_to_anchor=(0.49, -0.07), fancybox=True, shadow=True,\n",
    "             ncol=5, fontsize=20, labelspacing=0.1, handletextpad=0.5, handlelength=1)\n",
    "plt.subplots_adjust(wspace=0.4)  \n",
    "for axis in ax:  \n",
    "    for spine in axis.spines.values():\n",
    "        spine.set_linewidth(2)  \n"
   ]
  }
 ],
 "metadata": {
  "kernelspec": {
   "display_name": "Python 3",
   "language": "python",
   "name": "python3"
  },
  "language_info": {
   "codemirror_mode": {
    "name": "ipython",
    "version": 3
   },
   "file_extension": ".py",
   "mimetype": "text/x-python",
   "name": "python",
   "nbconvert_exporter": "python",
   "pygments_lexer": "ipython3",
   "version": "3.11.6"
  }
 },
 "nbformat": 4,
 "nbformat_minor": 5
}
