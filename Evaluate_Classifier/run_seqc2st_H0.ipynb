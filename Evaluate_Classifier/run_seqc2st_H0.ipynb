{
 "cells": [
  {
   "cell_type": "code",
   "execution_count": null,
   "metadata": {},
   "outputs": [],
   "source": [
    "import numpy as np\n",
    "import matplotlib.pyplot as plt\n",
    "import seaborn as sns\n",
    "from joblib import Parallel, delayed\n",
    "import matplotlib\n",
    "from utils.testing import Seq_C_2ST as Seq_C_2ST1\n",
    "from utils.testing_ftrl import Seq_C_2ST as Seq_C_2ST2\n",
    "from utils.testing_op_ftrl import Seq_C_2ST as Seq_C_2ST3\n",
    "from random import shuffle\n",
    "import json\n",
    "import os"
   ]
  },
  {
   "cell_type": "code",
   "execution_count": null,
   "metadata": {},
   "outputs": [],
   "source": [
    "sns.set(style=\"whitegrid\",\n",
    "        font_scale=1.4,\n",
    "        rc={\n",
    "            \"lines.linewidth\": 2,\n",
    "#             \"axes.facecolor\": \".9\",\n",
    "            'figure.figsize': (8, 6)\n",
    "        })\n",
    "sns.set_palette('Set2')\n",
    "matplotlib.rcParams['text.usetex'] = True"
   ]
  },
  {
   "cell_type": "code",
   "execution_count": null,
   "metadata": {},
   "outputs": [],
   "source": [
    "%load_ext autoreload\n",
    "%autoreload 2"
   ]
  },
  {
   "cell_type": "markdown",
   "metadata": {},
   "source": [
    "First sims"
   ]
  },
  {
   "cell_type": "code",
   "execution_count": null,
   "metadata": {},
   "outputs": [],
   "source": [
    "im = plt.imread('KDEF_and_AKDEF/KDEF_cropped_gray_group/AN/AF01ANS.JPG')"
   ]
  },
  {
   "cell_type": "code",
   "execution_count": null,
   "metadata": {},
   "outputs": [],
   "source": [
    "# Scale images to the [0, 1] range\n",
    "x_train = im.astype(\"float32\") / 255"
   ]
  },
  {
   "cell_type": "code",
   "execution_count": null,
   "metadata": {},
   "outputs": [],
   "source": [
    "plt.imshow(im, cmap='gray')"
   ]
  },
  {
   "cell_type": "code",
   "execution_count": null,
   "metadata": {},
   "outputs": [],
   "source": [
    "# create a training dataset\n",
    "import os\n",
    "\n",
    "cand_labels = ['AF', 'AN', 'DI', 'HA', 'NE', 'SA', 'SU']\n",
    "targ_dir = 'KDEF_and_AKDEF/KDEF_cropped_gray_group'\n",
    "list_images = list()\n",
    "list_labels = list()\n",
    "total_cnt = 0\n",
    "for cur_ind, cur_label in enumerate(cand_labels):\n",
    "    cur_dir = os.path.join(targ_dir, cur_label)\n",
    "    cur_cnt = 0\n",
    "    for fname in os.listdir(cur_dir):\n",
    "        if fname.endswith('.JPG'):\n",
    "            cur_cnt +=1\n",
    "            img_src = os.path.join(cur_dir, fname)\n",
    "            im = plt.imread(img_src).astype(\"float32\") / 255\n",
    "            list_images += [im.copy()]\n",
    "            list_labels += [cur_ind]\n"
   ]
  },
  {
   "cell_type": "code",
   "execution_count": null,
   "metadata": {},
   "outputs": [],
   "source": [
    "# create a training dataset\n",
    "import os\n",
    "\n",
    "pos_em = ['HA', 'NE', 'SU']\n",
    "neg_em = ['AF', 'AN', 'DI']\n",
    "targ_dir = 'KDEF_and_AKDEF/KDEF_cropped_gray_group'\n",
    "p_images = list()\n",
    "q_images = list()\n",
    "for cur_ind, cur_label in enumerate(pos_em):\n",
    "    cur_dir = os.path.join(targ_dir, cur_label)\n",
    "    cur_cnt = 0\n",
    "    for fname in os.listdir(cur_dir):\n",
    "        if fname.endswith('.JPG'):\n",
    "            cur_cnt += 1\n",
    "            img_src = os.path.join(cur_dir, fname)\n",
    "            im = plt.imread(img_src).astype(\"float32\") / 255\n",
    "            p_images += [im.copy()]\n",
    "\n",
    "for cur_ind, cur_label in enumerate(neg_em):\n",
    "    cur_dir = os.path.join(targ_dir, cur_label)\n",
    "    cur_cnt = 0\n",
    "    for fname in os.listdir(cur_dir):\n",
    "        if fname.endswith('.JPG'):\n",
    "            cur_cnt += 1\n",
    "            img_src = os.path.join(cur_dir, fname)\n",
    "            im = plt.imread(img_src).astype(\"float32\") / 255\n",
    "            q_images += [im.copy()]\n"
   ]
  },
  {
   "cell_type": "code",
   "execution_count": null,
   "metadata": {},
   "outputs": [],
   "source": [
    "plt.imshow(p_images[-2], cmap='gray')\n",
    "plt.axis('off')"
   ]
  },
  {
   "cell_type": "code",
   "execution_count": null,
   "metadata": {},
   "outputs": [],
   "source": [
    "plt.imshow(q_images[100], cmap='gray')\n",
    "plt.axis('off')"
   ]
  },
  {
   "cell_type": "code",
   "execution_count": null,
   "metadata": {},
   "outputs": [],
   "source": [
    "p_images_test = p_images[:250]\n",
    "q_images_test = q_images[:250]\n",
    "\n",
    "x_train = np.vstack([np.stack(p_images_test), np.stack(q_images_test)])\n",
    "\n",
    "# To simulate the random guessing for models under **H0**\n",
    "y_train_h0 = np.random.choice([-1, 1], size=len(x_train))"
   ]
  },
  {
   "cell_type": "code",
   "execution_count": null,
   "metadata": {},
   "outputs": [],
   "source": [
    "t_size = len(x_train)\n",
    "print(t_size)"
   ]
  },
  {
   "cell_type": "code",
   "execution_count": null,
   "metadata": {},
   "outputs": [],
   "source": [
    "# When using ONS as OAlg method\n",
    "\n",
    "significance_levels = np.linspace(0.005, 0.1, 20)\n",
    "rejection_counts = np.zeros(len(significance_levels))\n",
    "rejection_times_sums = [[] for _ in range(len(significance_levels))]\n",
    "total_tests_per_level = np.zeros(len(significance_levels))\n",
    "\n",
    "required_successes = 10\n",
    "\n",
    "success_count = 0\n",
    "\n",
    "while success_count < required_successes:\n",
    "    for index, level in enumerate(significance_levels):\n",
    "        try:\n",
    "            tester = Seq_C_2ST1(significance_level=level)\n",
    "            tester.payoff_style = 'classification'\n",
    "            tester.pred_model = 'CNN'\n",
    "            tester.bet_scheme = 'ONS'\n",
    "\n",
    "            for cur_ind in range(t_size):\n",
    "                tester.process_pair(x_train[cur_ind], y_train_h0[cur_ind])\n",
    "                if tester.null_rejected:\n",
    "                    rejection_counts[index] += 1\n",
    "                    rejection_times_sums[index].append(cur_ind + 1)\n",
    "                    break  \n",
    "\n",
    "            total_tests_per_level[index] += 1  \n",
    "\n",
    "        except Exception as e:\n",
    "            print(f\"Attempt failed at level {level} due to {e}, skipping this trial...\")\n",
    "\n",
    "    if np.min(total_tests_per_level) >= required_successes:\n",
    "        break  \n",
    "\n",
    "\n",
    "average_rejection_rates = rejection_counts / total_tests_per_level\n",
    "average_rejection_times = [np.mean(times) if times else 0 for times in rejection_times_sums]\n",
    "\n",
    "average_rejection_rates = np.array(average_rejection_rates)\n",
    "average_rejection_times = np.array(average_rejection_times)\n",
    "\n",
    "print(\"Average False Positive Rates per Level:\", average_rejection_rates)\n",
    "print(\"Average Rejection Times per Level:\", average_rejection_times)\n"
   ]
  },
  {
   "cell_type": "code",
   "execution_count": null,
   "metadata": {},
   "outputs": [],
   "source": [
    "# When using FTRL+Barrier as OAlg method\n",
    "\n",
    "significance_levels = np.linspace(0.005, 0.1, 20)\n",
    "rejection_counts = np.zeros(len(significance_levels))\n",
    "rejection_times_sums = [[] for _ in range(len(significance_levels))]\n",
    "total_tests_per_level = np.zeros(len(significance_levels))\n",
    "\n",
    "required_successes = 10\n",
    "\n",
    "success_count = 0\n",
    "\n",
    "while success_count < required_successes:\n",
    "    for index, level in enumerate(significance_levels):\n",
    "        try:\n",
    "            tester = Seq_C_2ST2(significance_level=level)\n",
    "            tester.payoff_style = 'classification'\n",
    "            tester.pred_model = 'CNN'\n",
    "            tester.bet_scheme = 'FB'\n",
    "\n",
    "            for cur_ind in range(t_size):\n",
    "                tester.process_pair(x_train[cur_ind], y_train_h0[cur_ind])\n",
    "                if tester.null_rejected:\n",
    "                    rejection_counts[index] += 1\n",
    "                    rejection_times_sums[index].append(cur_ind + 1)\n",
    "                    break  \n",
    "\n",
    "            total_tests_per_level[index] += 1  \n",
    "\n",
    "        except Exception as e:\n",
    "            print(f\"Attempt failed at level {level} due to {e}, skipping this trial...\")\n",
    "\n",
    "    if np.min(total_tests_per_level) >= required_successes:\n",
    "        break  \n",
    "\n",
    "\n",
    "average_rejection_rates = rejection_counts / total_tests_per_level\n",
    "average_rejection_times = [np.mean(times) if times else 0 for times in rejection_times_sums]\n",
    "\n",
    "average_rejection_rates = np.array(average_rejection_rates)\n",
    "average_rejection_times = np.array(average_rejection_times)\n",
    "\n",
    "print(\"Average False Positive Rates per Level:\", average_rejection_rates)\n",
    "print(\"Average Rejection Times per Level:\", average_rejection_times)"
   ]
  },
  {
   "cell_type": "code",
   "execution_count": null,
   "metadata": {},
   "outputs": [],
   "source": [
    "# When using Optimistic-FTRL+Barrier as OAlg method\n",
    "\n",
    "significance_levels = np.linspace(0.005, 0.1, 20)\n",
    "rejection_counts = np.zeros(len(significance_levels))\n",
    "rejection_times_sums = [[] for _ in range(len(significance_levels))]\n",
    "total_tests_per_level = np.zeros(len(significance_levels))\n",
    "\n",
    "required_successes = 10\n",
    "\n",
    "success_count = 0\n",
    "\n",
    "while success_count < required_successes:\n",
    "    for index, level in enumerate(significance_levels):\n",
    "        try:\n",
    "            tester = Seq_C_2ST3(significance_level=level)\n",
    "            tester.payoff_style = 'classification'\n",
    "            tester.pred_model = 'CNN'\n",
    "            tester.bet_scheme = 'OFB'\n",
    "\n",
    "            for cur_ind in range(t_size):\n",
    "                tester.process_pair(x_train[cur_ind], y_train_h0[cur_ind])\n",
    "                if tester.null_rejected:\n",
    "                    rejection_counts[index] += 1\n",
    "                    rejection_times_sums[index].append(cur_ind + 1)\n",
    "                    break  \n",
    "\n",
    "            total_tests_per_level[index] += 1  \n",
    "\n",
    "        except Exception as e:\n",
    "            print(f\"Attempt failed at level {level} due to {e}, skipping this trial...\")\n",
    "\n",
    "    if np.min(total_tests_per_level) >= required_successes:\n",
    "        break  \n",
    "\n",
    "\n",
    "average_rejection_rates = rejection_counts / total_tests_per_level\n",
    "average_rejection_times = [np.mean(times) if times else 0 for times in rejection_times_sums]\n",
    "\n",
    "average_rejection_rates = np.array(average_rejection_rates)\n",
    "average_rejection_times = np.array(average_rejection_times)\n",
    "\n",
    "print(\"Average False Positive Rates per Level:\", average_rejection_rates)\n",
    "print(\"Average Rejection Times per Level:\", average_rejection_times)"
   ]
  }
 ],
 "metadata": {
  "kernelspec": {
   "display_name": "Python 3 (ipykernel)",
   "language": "python",
   "name": "python3"
  },
  "language_info": {
   "codemirror_mode": {
    "name": "ipython",
    "version": 3
   },
   "file_extension": ".py",
   "mimetype": "text/x-python",
   "name": "python",
   "nbconvert_exporter": "python",
   "pygments_lexer": "ipython3",
   "version": "3.11.0"
  },
  "vscode": {
   "interpreter": {
    "hash": "aee8b7b246df8f9039afb4144a1f6fd8d2ca17a180786b69acc140d282b71a49"
   }
  }
 },
 "nbformat": 4,
 "nbformat_minor": 4
}
